{
  "cells": [
    {
      "cell_type": "markdown",
      "metadata": {
        "id": "view-in-github",
        "colab_type": "text"
      },
      "source": [
        "<a href=\"https://colab.research.google.com/github/GoginikariTharunTeja/NLP/blob/main/sentiment_tharun.ipynb\" target=\"_parent\"><img src=\"https://colab.research.google.com/assets/colab-badge.svg\" alt=\"Open In Colab\"/></a>"
      ]
    },
    {
      "cell_type": "code",
      "execution_count": 10,
      "metadata": {
        "colab": {
          "base_uri": "https://localhost:8080/"
        },
        "id": "hqJtSE02WvB5",
        "outputId": "c4d0bff9-5439-4c15-e61f-660816e04c85"
      },
      "outputs": [
        {
          "output_type": "stream",
          "name": "stdout",
          "text": [
            "Drive already mounted at /content/drive; to attempt to forcibly remount, call drive.mount(\"/content/drive\", force_remount=True).\n"
          ]
        }
      ],
      "source": [
        "from google.colab import drive\n",
        "drive.mount('/content/drive')"
      ]
    },
    {
      "cell_type": "code",
      "execution_count": 11,
      "metadata": {
        "id": "q2Ku3wnyWmBr"
      },
      "outputs": [],
      "source": [
        "#import libraries\n",
        "import numpy as np\n",
        "import pandas as pd \n",
        "import tensorflow as tf\n",
        "import nltk\n",
        "import seaborn as sns\n",
        "import re\n",
        "import matplotlib.pyplot as plt\n",
        "\n",
        "from tensorflow.keras.layers import Embedding, Dense, LSTM, Dropout, Bidirectional\n",
        "from tensorflow.keras.preprocessing.sequence import pad_sequences\n",
        "from tensorflow.keras.models import Sequential\n",
        "from tensorflow.keras.preprocessing.text import one_hot, Tokenizer\n",
        "from tensorflow.keras.callbacks import ModelCheckpoint\n",
        "from nltk.corpus import stopwords\n",
        "from nltk.stem.porter import PorterStemmer\n",
        "from sklearn import preprocessing\n",
        "from sklearn.model_selection import train_test_split\n",
        "from sklearn.metrics import accuracy_score, classification_report, confusion_matrix\n",
        "from tensorflow.keras.preprocessing.text import Tokenizer\n",
        "from tensorflow.keras.preprocessing.sequence import pad_sequences"
      ]
    },
    {
      "cell_type": "code",
      "execution_count": 12,
      "metadata": {
        "colab": {
          "base_uri": "https://localhost:8080/",
          "height": 206
        },
        "id": "Xl3MgzMGWmBv",
        "outputId": "a1574d00-7a6d-47eb-9327-86353c6c60ee"
      },
      "outputs": [
        {
          "output_type": "execute_result",
          "data": {
            "text/plain": [
              "   Emotion                                               Text\n",
              "0  neutral                                             Why ? \n",
              "1      joy    Sage Act upgrade on my to do list for tommorow.\n",
              "2  sadness  ON THE WAY TO MY HOMEGIRL BABY FUNERAL!!! MAN ...\n",
              "3      joy   Such an eye ! The true hazel eye-and so brill...\n",
              "4      joy  @Iluvmiasantos ugh babe.. hugggzzz for u .!  b..."
            ],
            "text/html": [
              "\n",
              "  <div id=\"df-81e68a14-ec36-4788-ba07-5e9daf7a5a88\">\n",
              "    <div class=\"colab-df-container\">\n",
              "      <div>\n",
              "<style scoped>\n",
              "    .dataframe tbody tr th:only-of-type {\n",
              "        vertical-align: middle;\n",
              "    }\n",
              "\n",
              "    .dataframe tbody tr th {\n",
              "        vertical-align: top;\n",
              "    }\n",
              "\n",
              "    .dataframe thead th {\n",
              "        text-align: right;\n",
              "    }\n",
              "</style>\n",
              "<table border=\"1\" class=\"dataframe\">\n",
              "  <thead>\n",
              "    <tr style=\"text-align: right;\">\n",
              "      <th></th>\n",
              "      <th>Emotion</th>\n",
              "      <th>Text</th>\n",
              "    </tr>\n",
              "  </thead>\n",
              "  <tbody>\n",
              "    <tr>\n",
              "      <th>0</th>\n",
              "      <td>neutral</td>\n",
              "      <td>Why ?</td>\n",
              "    </tr>\n",
              "    <tr>\n",
              "      <th>1</th>\n",
              "      <td>joy</td>\n",
              "      <td>Sage Act upgrade on my to do list for tommorow.</td>\n",
              "    </tr>\n",
              "    <tr>\n",
              "      <th>2</th>\n",
              "      <td>sadness</td>\n",
              "      <td>ON THE WAY TO MY HOMEGIRL BABY FUNERAL!!! MAN ...</td>\n",
              "    </tr>\n",
              "    <tr>\n",
              "      <th>3</th>\n",
              "      <td>joy</td>\n",
              "      <td>Such an eye ! The true hazel eye-and so brill...</td>\n",
              "    </tr>\n",
              "    <tr>\n",
              "      <th>4</th>\n",
              "      <td>joy</td>\n",
              "      <td>@Iluvmiasantos ugh babe.. hugggzzz for u .!  b...</td>\n",
              "    </tr>\n",
              "  </tbody>\n",
              "</table>\n",
              "</div>\n",
              "      <button class=\"colab-df-convert\" onclick=\"convertToInteractive('df-81e68a14-ec36-4788-ba07-5e9daf7a5a88')\"\n",
              "              title=\"Convert this dataframe to an interactive table.\"\n",
              "              style=\"display:none;\">\n",
              "        \n",
              "  <svg xmlns=\"http://www.w3.org/2000/svg\" height=\"24px\"viewBox=\"0 0 24 24\"\n",
              "       width=\"24px\">\n",
              "    <path d=\"M0 0h24v24H0V0z\" fill=\"none\"/>\n",
              "    <path d=\"M18.56 5.44l.94 2.06.94-2.06 2.06-.94-2.06-.94-.94-2.06-.94 2.06-2.06.94zm-11 1L8.5 8.5l.94-2.06 2.06-.94-2.06-.94L8.5 2.5l-.94 2.06-2.06.94zm10 10l.94 2.06.94-2.06 2.06-.94-2.06-.94-.94-2.06-.94 2.06-2.06.94z\"/><path d=\"M17.41 7.96l-1.37-1.37c-.4-.4-.92-.59-1.43-.59-.52 0-1.04.2-1.43.59L10.3 9.45l-7.72 7.72c-.78.78-.78 2.05 0 2.83L4 21.41c.39.39.9.59 1.41.59.51 0 1.02-.2 1.41-.59l7.78-7.78 2.81-2.81c.8-.78.8-2.07 0-2.86zM5.41 20L4 18.59l7.72-7.72 1.47 1.35L5.41 20z\"/>\n",
              "  </svg>\n",
              "      </button>\n",
              "      \n",
              "  <style>\n",
              "    .colab-df-container {\n",
              "      display:flex;\n",
              "      flex-wrap:wrap;\n",
              "      gap: 12px;\n",
              "    }\n",
              "\n",
              "    .colab-df-convert {\n",
              "      background-color: #E8F0FE;\n",
              "      border: none;\n",
              "      border-radius: 50%;\n",
              "      cursor: pointer;\n",
              "      display: none;\n",
              "      fill: #1967D2;\n",
              "      height: 32px;\n",
              "      padding: 0 0 0 0;\n",
              "      width: 32px;\n",
              "    }\n",
              "\n",
              "    .colab-df-convert:hover {\n",
              "      background-color: #E2EBFA;\n",
              "      box-shadow: 0px 1px 2px rgba(60, 64, 67, 0.3), 0px 1px 3px 1px rgba(60, 64, 67, 0.15);\n",
              "      fill: #174EA6;\n",
              "    }\n",
              "\n",
              "    [theme=dark] .colab-df-convert {\n",
              "      background-color: #3B4455;\n",
              "      fill: #D2E3FC;\n",
              "    }\n",
              "\n",
              "    [theme=dark] .colab-df-convert:hover {\n",
              "      background-color: #434B5C;\n",
              "      box-shadow: 0px 1px 3px 1px rgba(0, 0, 0, 0.15);\n",
              "      filter: drop-shadow(0px 1px 2px rgba(0, 0, 0, 0.3));\n",
              "      fill: #FFFFFF;\n",
              "    }\n",
              "  </style>\n",
              "\n",
              "      <script>\n",
              "        const buttonEl =\n",
              "          document.querySelector('#df-81e68a14-ec36-4788-ba07-5e9daf7a5a88 button.colab-df-convert');\n",
              "        buttonEl.style.display =\n",
              "          google.colab.kernel.accessAllowed ? 'block' : 'none';\n",
              "\n",
              "        async function convertToInteractive(key) {\n",
              "          const element = document.querySelector('#df-81e68a14-ec36-4788-ba07-5e9daf7a5a88');\n",
              "          const dataTable =\n",
              "            await google.colab.kernel.invokeFunction('convertToInteractive',\n",
              "                                                     [key], {});\n",
              "          if (!dataTable) return;\n",
              "\n",
              "          const docLinkHtml = 'Like what you see? Visit the ' +\n",
              "            '<a target=\"_blank\" href=https://colab.research.google.com/notebooks/data_table.ipynb>data table notebook</a>'\n",
              "            + ' to learn more about interactive tables.';\n",
              "          element.innerHTML = '';\n",
              "          dataTable['output_type'] = 'display_data';\n",
              "          await google.colab.output.renderOutput(dataTable, element);\n",
              "          const docLink = document.createElement('div');\n",
              "          docLink.innerHTML = docLinkHtml;\n",
              "          element.appendChild(docLink);\n",
              "        }\n",
              "      </script>\n",
              "    </div>\n",
              "  </div>\n",
              "  "
            ]
          },
          "metadata": {},
          "execution_count": 12
        }
      ],
      "source": [
        "df=pd.read_csv('/content/drive/MyDrive/NLP/emotion_dataset_2 (1).csv') #Text data\n",
        "#EMBEDDING_FILE= f'C:/Users/nakka/Documents/python/NLP/glove.6B/glove.6B.100d.txt' #GloVe file path\n",
        "df.head()"
      ]
    },
    {
      "cell_type": "code",
      "execution_count": 13,
      "metadata": {
        "colab": {
          "base_uri": "https://localhost:8080/",
          "height": 351
        },
        "id": "QbFr1oDHWmBw",
        "outputId": "b424bd2c-f330-474c-eabb-e5cd1c23fa08"
      },
      "outputs": [
        {
          "output_type": "stream",
          "name": "stderr",
          "text": [
            "/usr/local/lib/python3.7/dist-packages/seaborn/_decorators.py:43: FutureWarning: Pass the following variable as a keyword arg: x. From version 0.12, the only valid positional argument will be `data`, and passing other arguments without an explicit keyword will result in an error or misinterpretation.\n",
            "  FutureWarning\n"
          ]
        },
        {
          "output_type": "execute_result",
          "data": {
            "text/plain": [
              "<matplotlib.axes._subplots.AxesSubplot at 0x7f47f3cec550>"
            ]
          },
          "metadata": {},
          "execution_count": 13
        },
        {
          "output_type": "display_data",
          "data": {
            "text/plain": [
              "<Figure size 432x288 with 1 Axes>"
            ],
            "image/png": "[encoded data removed]"
          },
          "metadata": {
            "needs_background": "light"
          }
        }
      ],
      "source": [
        "#Target Classes\n",
        "sns.countplot(df['Emotion']) "
      ]
    },
    {
      "cell_type": "code",
      "execution_count": 14,
      "metadata": {
        "id": "Gpx_-PIAWmBx"
      },
      "outputs": [],
      "source": [
        "df=df.dropna() #Drop columns with NA values\n",
        "X=df.drop('Emotion',axis=1) #Input\n",
        "y=df['Emotion'] #Output"
      ]
    },
    {
      "cell_type": "code",
      "execution_count": 15,
      "metadata": {
        "id": "UuFG5FqKWmBx"
      },
      "outputs": [],
      "source": [
        "messages=X.copy()\n",
        "messages.reset_index(inplace=True) #Drop NA may cause inconsistency in index"
      ]
    },
    {
      "cell_type": "code",
      "execution_count": 16,
      "metadata": {
        "colab": {
          "base_uri": "https://localhost:8080/"
        },
        "id": "dQ2wndhVWmBy",
        "outputId": "fe7d2a63-7726-4695-f86e-d054c00eb2e3"
      },
      "outputs": [
        {
          "output_type": "stream",
          "name": "stderr",
          "text": [
            "[nltk_data] Downloading package stopwords to /root/nltk_data...\n",
            "[nltk_data]   Package stopwords is already up-to-date!\n"
          ]
        }
      ],
      "source": [
        "nltk.download('stopwords')\n",
        "ps = PorterStemmer()\n",
        "corpus = []\n",
        "for i in range(0, len(messages)):\n",
        "    review = re.sub('[^a-zA-Z]', ' ', messages['Text'][i]) #Remove Special Characters\n",
        "    review = review.lower() #Lower case \n",
        "    review = review.split()\n",
        "    review = [ps.stem(word) for word in review if not word in stopwords.words('english')] #Remove stopwords\n",
        "    review = ' '.join(review)\n",
        "    corpus.append(review)"
      ]
    },
    {
      "cell_type": "code",
      "execution_count": 17,
      "metadata": {
        "colab": {
          "base_uri": "https://localhost:8080/"
        },
        "id": "qsaQqamfWmBz",
        "outputId": "c517e2bf-4fc2-456a-945f-16e05724c07a"
      },
      "outputs": [
        {
          "output_type": "execute_result",
          "data": {
            "text/plain": [
              "['',\n",
              " 'sage act upgrad list tommorow',\n",
              " 'way homegirl babi funer man hate funer realli show bless',\n",
              " 'eye true hazel eye brilliant regular featur open counten complexion oh bloom full health pretti height size firm upright figur health mere bloom air head glanc one hear sometim child pictur health alway give idea complet pictur grown health loveli',\n",
              " 'iluvmiasanto ugh babe hugggzzz u babe naamaz nga ako e babe e despit nega ma pinaramdam fil ko ang',\n",
              " 'expect extrem import phonecal minut terror opportun',\n",
              " 'couldnt wait see live miss nh wasnt pain enuf suraj perform last gig delhi',\n",
              " 'maken tip stop op een moment dat je het hele project wel ziet zitten nu du derestkomtlaterwel',\n",
              " 'en dan krijg je ff een cadeautj van een tweep melik',\n",
              " 'drummer boy bij op verzoek van biemoosterhof frankcornet welk uitvoer van wie']"
            ]
          },
          "metadata": {},
          "execution_count": 17
        }
      ],
      "source": [
        "corpus[:10]"
      ]
    },
    {
      "cell_type": "code",
      "execution_count": 18,
      "metadata": {
        "colab": {
          "base_uri": "https://localhost:8080/"
        },
        "id": "DanaQANgWmBz",
        "outputId": "05f6c094-098a-4437-bda3-508a29ab6bc2"
      },
      "outputs": [
        {
          "output_type": "stream",
          "name": "stdout",
          "text": [
            "Number of unique words in dictionary= 28585\n",
            "Dense vector for first word is =>  [ 7.36779999e-03  6.25320002e-02 -9.74320024e-02  2.82889992e-01\n",
            "  1.79069996e-01  1.55630007e-01 -6.00220002e-02 -1.87059999e-01\n",
            "  2.52200007e-01 -1.43659997e+00  1.83960006e-01 -4.11540002e-01\n",
            " -2.47209996e-01 -2.89240003e-01  2.27329999e-01  9.33770016e-02\n",
            " -1.30050004e-01 -2.37379998e-01  2.97340006e-01  3.92870009e-01\n",
            "  2.46020004e-01  1.37779996e-01  5.04310012e-01 -1.96400002e-01\n",
            " -1.96079999e-01  3.03199999e-02  1.74940005e-01  1.50950000e-01\n",
            " -9.30700004e-02 -8.15420002e-02  1.37449995e-01  2.66009986e-01\n",
            "  2.61099994e-01 -3.29400003e-01 -1.25039995e+00  3.54400016e-02\n",
            " -9.02659968e-02  2.11370006e-01 -2.44629994e-01 -1.05710000e-01\n",
            " -1.61099993e-02 -5.27719975e-01 -2.95199990e-01 -1.26179993e-01\n",
            " -2.51940012e-01 -2.86819991e-02  6.00709975e-01  5.56989983e-02\n",
            " -5.31440005e-02  9.40390006e-02 -7.34390020e-02 -1.37180001e-01\n",
            " -1.90239996e-02 -1.97290003e-01 -2.43379995e-01  2.57360011e-01\n",
            " -8.53620023e-02  2.71019995e-01 -3.73479992e-01  2.46319994e-01\n",
            "  1.71920002e-01  8.48739967e-02 -1.43470004e-01  3.24010015e-01\n",
            " -1.48300007e-01 -3.91110003e-01  4.22659993e-01 -9.81239974e-02\n",
            "  1.80999994e-01 -2.96149999e-01  2.44499996e-01 -1.28299996e-01\n",
            " -1.58680007e-01  1.97899997e-01  4.07409996e-01 -1.27990007e-01\n",
            " -4.31529991e-02  2.15910003e-01 -3.22589986e-02 -2.97030002e-01\n",
            " -9.56529984e-04 -1.67860001e-01  3.14229995e-01 -7.82729983e-02\n",
            " -1.80010006e-01  4.80660014e-02 -2.19730005e-01  2.66759992e-01\n",
            "  9.97610018e-03 -6.35690019e-02 -4.10200000e-01  2.98880011e-01\n",
            " -1.98540002e-01 -5.25390029e-01 -1.13020003e-01  5.18919993e-03\n",
            " -4.46900010e-01 -2.35609993e-01 -3.23299989e-02 -3.15109998e-01]\n"
          ]
        }
      ],
      "source": [
        "# code for Glove word embedding  \n",
        "# create the dict.\n",
        "tokenizer = Tokenizer()\n",
        "tokenizer.fit_on_texts(corpus)\n",
        "  \n",
        "# number of unique words in dict.\n",
        "print(\"Number of unique words in dictionary=\", len(tokenizer.word_index))\n",
        "#print(\"Dictionary is = \", tokenizer.word_index)\n",
        "  \n",
        "# download glove and unzip it in Notebook.\n",
        "# http://nlp.stanford.edu/data/glove.6B.zip\n",
        "\n",
        "def embedding_for_vocab(filepath, word_index, embedding_dim):\n",
        "    vocab_size = len(word_index) + 1\n",
        "    # Adding again 1 because of reserved 0 index\n",
        "    embedding_matrix_vocab = np.zeros((vocab_size, embedding_dim))\n",
        "    with open(filepath, encoding=\"utf8\") as f:\n",
        "        for line in f:\n",
        "            word, *vector = line.split()\n",
        "            if word in word_index:\n",
        "                idx = word_index[word]\n",
        "                embedding_matrix_vocab[idx] = np.array(vector, dtype=np.float32)[:embedding_dim]\n",
        "    return embedding_matrix_vocab\n",
        "    \n",
        "# matrix for vocab: word_index\n",
        "embedding_dim = 100\n",
        "embedding_matrix_vocab = embedding_for_vocab('/content/drive/MyDrive/NLP/glove.6B.300d.txt', tokenizer.word_index, embedding_dim)\n",
        "print(\"Dense vector for first word is => \", embedding_matrix_vocab[1])"
      ]
    },
    {
      "cell_type": "code",
      "execution_count": 19,
      "metadata": {
        "colab": {
          "base_uri": "https://localhost:8080/"
        },
        "id": "FXPtiwzPWmB0",
        "outputId": "f1800a28-c3c3-47fd-f86f-285cb21c506b"
      },
      "outputs": [
        {
          "output_type": "stream",
          "name": "stdout",
          "text": [
            "28586\n"
          ]
        }
      ],
      "source": [
        "#Contains the pretrained GloVe weights for the words\n",
        "voc_size=len(embedding_matrix_vocab)\n",
        "print(voc_size)"
      ]
    },
    {
      "cell_type": "code",
      "execution_count": 20,
      "metadata": {
        "colab": {
          "base_uri": "https://localhost:8080/"
        },
        "id": "5thjYhicWmB1",
        "outputId": "89d1f121-6d76-4beb-ecdb-859b7ffa6dcd"
      },
      "outputs": [
        {
          "output_type": "stream",
          "name": "stdout",
          "text": [
            "[[    0     0     0 ...     0     0     0]\n",
            " [    0     0     0 ...  2128  3375 15694]\n",
            " [    0     0     0 ...  6215 18699 21922]\n",
            " ...\n",
            " [    0     0     0 ...  1430  8406 18438]\n",
            " [    0     0     0 ... 11375 27693 18941]\n",
            " [    0     0     0 ...  1967 22673  6315]]\n"
          ]
        }
      ],
      "source": [
        "#One hot representation for input\n",
        "onehot_repr=[one_hot(words, voc_size)for words in corpus]\n",
        "\n",
        "#Finding max words\n",
        "l = 0\n",
        "for x in corpus:\n",
        "    l = max(l,len(x.split(' ')))\n",
        "\n",
        "#Padding the sequences for input\n",
        "sent_length= l\n",
        "embedded_docs=pad_sequences(onehot_repr,padding='pre',maxlen=sent_length)\n",
        "print(embedded_docs)"
      ]
    },
    {
      "cell_type": "code",
      "execution_count": 21,
      "metadata": {
        "colab": {
          "base_uri": "https://localhost:8080/"
        },
        "id": "I20N7VnXWmB1",
        "outputId": "e51e88ba-af81-43e9-df68-0895bd84cc4e"
      },
      "outputs": [
        {
          "output_type": "stream",
          "name": "stdout",
          "text": [
            "[4 3 5 ... 0 2 5]\n"
          ]
        }
      ],
      "source": [
        "#Encoding the target outputs to integers\n",
        "label_encoder = preprocessing.LabelEncoder()\n",
        "\n",
        "X_final=np.array(embedded_docs) #input to array\n",
        "y = label_encoder.fit_transform(y)\n",
        "y_final=np.array(y)\n",
        "print(y_final)"
      ]
    },
    {
      "cell_type": "code",
      "execution_count": 22,
      "metadata": {
        "colab": {
          "base_uri": "https://localhost:8080/"
        },
        "id": "XUBQIPl1WmB2",
        "outputId": "8ec15cdb-007b-43a9-ce53-9d694a134f5e"
      },
      "outputs": [
        {
          "output_type": "execute_result",
          "data": {
            "text/plain": [
              "((34792, 100), (34792,))"
            ]
          },
          "metadata": {},
          "execution_count": 22
        }
      ],
      "source": [
        "X_final.shape,y_final.shape"
      ]
    },
    {
      "cell_type": "code",
      "execution_count": 23,
      "metadata": {
        "id": "RrtJ-GSBWmB2"
      },
      "outputs": [],
      "source": [
        "#Train-Test split\n",
        "X_train, X_test, y_train, y_test = train_test_split(X_final, y_final, test_size=0.2, random_state=42) \n",
        "#Train-Validation split\n",
        "X_train, X_val, y_train, y_val = train_test_split(X_train, y_train, test_size=0.15, random_state=21)"
      ]
    },
    {
      "cell_type": "code",
      "execution_count": 26,
      "metadata": {
        "id": "YARDZxIZWmB2",
        "colab": {
          "base_uri": "https://localhost:8080/"
        },
        "outputId": "afc2d931-b388-4025-e654-cfa303699992"
      },
      "outputs": [
        {
          "output_type": "stream",
          "name": "stdout",
          "text": [
            "Model: \"sequential_1\"\n",
            "_________________________________________________________________\n",
            " Layer (type)                Output Shape              Param #   \n",
            "=================================================================\n",
            " embedding_1 (Embedding)     (None, None, 100)         2858600   \n",
            "                                                                 \n",
            " dropout_3 (Dropout)         (None, None, 100)         0         \n",
            "                                                                 \n",
            " bidirectional_1 (Bidirectio  (None, 128)              84480     \n",
            " nal)                                                            \n",
            "                                                                 \n",
            " dropout_4 (Dropout)         (None, 128)               0         \n",
            "                                                                 \n",
            " dense_2 (Dense)             (None, 64)                8256      \n",
            "                                                                 \n",
            " dropout_5 (Dropout)         (None, 64)                0         \n",
            "                                                                 \n",
            " dense_3 (Dense)             (None, 8)                 520       \n",
            "                                                                 \n",
            "=================================================================\n",
            "Total params: 2,951,856\n",
            "Trainable params: 2,951,856\n",
            "Non-trainable params: 0\n",
            "_________________________________________________________________\n"
          ]
        }
      ],
      "source": [
        "# Creating model\n",
        "model=Sequential()\n",
        "model.add(Embedding(voc_size, embedding_dim, weights=[embedding_matrix_vocab]))\n",
        "model.add(Dropout(0.20))\n",
        "model.add(Bidirectional(LSTM(64)))\n",
        "model.add(Dropout(0.20))\n",
        "model.add(Dense(64, activation='relu',kernel_regularizer=tf.keras.regularizers.l1(0.01))) #L1 regularization\n",
        "model.add(Dropout(0.20))\n",
        "model.add(Dense(8,activation='softmax'))\n",
        "model.compile(loss='sparse_categorical_crossentropy',optimizer= tf.keras.optimizers.Adam(learning_rate=0.001),metrics=['accuracy'])\n",
        "model.summary()"
      ]
    },
    {
      "cell_type": "code",
      "execution_count": 28,
      "metadata": {
        "colab": {
          "base_uri": "https://localhost:8080/"
        },
        "id": "5OVdEN26WmB3",
        "outputId": "8e465c93-f336-45ad-fd1d-2367afcda8c9"
      },
      "outputs": [
        {
          "output_type": "stream",
          "name": "stdout",
          "text": [
            "Epoch 1/10\n",
            "370/370 [==============================] - ETA: 0s - loss: 0.9169 - accuracy: 0.7664\n",
            "Epoch 1: val_loss improved from inf to 1.44079, saving model to weights.h5\n",
            "370/370 [==============================] - 106s 286ms/step - loss: 0.9169 - accuracy: 0.7664 - val_loss: 1.4408 - val_accuracy: 0.5772\n",
            "Epoch 2/10\n",
            "370/370 [==============================] - ETA: 0s - loss: 0.8561 - accuracy: 0.7866\n",
            "Epoch 2: val_loss did not improve from 1.44079\n",
            "370/370 [==============================] - 103s 277ms/step - loss: 0.8561 - accuracy: 0.7866 - val_loss: 1.4853 - val_accuracy: 0.5780\n",
            "Epoch 3/10\n",
            "370/370 [==============================] - ETA: 0s - loss: 0.8126 - accuracy: 0.8026\n",
            "Epoch 3: val_loss did not improve from 1.44079\n",
            "370/370 [==============================] - 100s 271ms/step - loss: 0.8126 - accuracy: 0.8026 - val_loss: 1.5155 - val_accuracy: 0.5703\n",
            "Epoch 4/10\n",
            "370/370 [==============================] - ETA: 0s - loss: 0.7673 - accuracy: 0.8139\n",
            "Epoch 4: val_loss did not improve from 1.44079\n",
            "370/370 [==============================] - 104s 280ms/step - loss: 0.7673 - accuracy: 0.8139 - val_loss: 1.5517 - val_accuracy: 0.5794\n",
            "Epoch 5/10\n",
            "370/370 [==============================] - ETA: 0s - loss: 0.7242 - accuracy: 0.8280\n",
            "Epoch 5: val_loss did not improve from 1.44079\n",
            "370/370 [==============================] - 101s 274ms/step - loss: 0.7242 - accuracy: 0.8280 - val_loss: 1.5938 - val_accuracy: 0.5859\n",
            "Epoch 6/10\n",
            "370/370 [==============================] - ETA: 0s - loss: 0.6925 - accuracy: 0.8365\n",
            "Epoch 6: val_loss did not improve from 1.44079\n",
            "370/370 [==============================] - 101s 274ms/step - loss: 0.6925 - accuracy: 0.8365 - val_loss: 1.6220 - val_accuracy: 0.5749\n",
            "Epoch 7/10\n",
            "370/370 [==============================] - ETA: 0s - loss: 0.6594 - accuracy: 0.8443\n",
            "Epoch 7: val_loss did not improve from 1.44079\n",
            "370/370 [==============================] - 104s 280ms/step - loss: 0.6594 - accuracy: 0.8443 - val_loss: 1.6255 - val_accuracy: 0.5705\n",
            "Epoch 8/10\n",
            "370/370 [==============================] - ETA: 0s - loss: 0.6290 - accuracy: 0.8551\n",
            "Epoch 8: val_loss did not improve from 1.44079\n",
            "370/370 [==============================] - 101s 273ms/step - loss: 0.6290 - accuracy: 0.8551 - val_loss: 1.6284 - val_accuracy: 0.5770\n",
            "Epoch 9/10\n",
            "370/370 [==============================] - ETA: 0s - loss: 0.6009 - accuracy: 0.8598\n",
            "Epoch 9: val_loss did not improve from 1.44079\n",
            "370/370 [==============================] - 103s 280ms/step - loss: 0.6009 - accuracy: 0.8598 - val_loss: 1.6828 - val_accuracy: 0.5703\n",
            "Epoch 10/10\n",
            "370/370 [==============================] - ETA: 0s - loss: 0.5741 - accuracy: 0.8662\n",
            "Epoch 10: val_loss did not improve from 1.44079\n",
            "370/370 [==============================] - 100s 270ms/step - loss: 0.5741 - accuracy: 0.8662 - val_loss: 1.7121 - val_accuracy: 0.5717\n"
          ]
        }
      ],
      "source": [
        "model_save = ModelCheckpoint('weights.h5', save_best_only = True, save_weights_only = True, monitor = 'val_loss', mode = 'min', verbose = 1)\n",
        "history = model.fit(X_train,y_train,validation_data=(X_val,y_val),epochs=10,batch_size=64,callbacks = [model_save])"
      ]
    },
    {
      "cell_type": "code",
      "execution_count": 29,
      "metadata": {
        "colab": {
          "base_uri": "https://localhost:8080/",
          "height": 590
        },
        "id": "G6wdoPYBWmB3",
        "outputId": "70587cc8-5479-4701-9744-d3ec86367607"
      },
      "outputs": [
        {
          "output_type": "stream",
          "name": "stdout",
          "text": [
            "dict_keys(['loss', 'accuracy', 'val_loss', 'val_accuracy'])\n"
          ]
        },
        {
          "output_type": "display_data",
          "data": {
            "text/plain": [
              "<Figure size 432x288 with 1 Axes>"
            ],
            "image/png": "[encoded data removed]"
          },
          "metadata": {
            "needs_background": "light"
          }
        },
        {
          "output_type": "display_data",
          "data": {
            "text/plain": [
              "<Figure size 432x288 with 1 Axes>"
            ],
            "image/png": "[encoded data removed]"
          },
          "metadata": {
            "needs_background": "light"
          }
        }
      ],
      "source": [
        "print(history.history.keys())\n",
        "#  \"Accuracy\"\n",
        "plt.plot(history.history['accuracy'])\n",
        "plt.plot(history.history['val_accuracy'])\n",
        "plt.title('model accuracy')\n",
        "plt.ylabel('accuracy')\n",
        "plt.xlabel('epoch')\n",
        "plt.legend(['train', 'validation'], loc='upper left')\n",
        "plt.show()\n",
        "# \"Loss\"\n",
        "plt.plot(history.history['loss'])\n",
        "plt.plot(history.history['val_loss'])\n",
        "plt.title('model loss')\n",
        "plt.ylabel('loss')\n",
        "plt.xlabel('epoch')\n",
        "plt.legend(['train', 'validation'], loc='upper left')\n",
        "plt.show()"
      ]
    },
    {
      "cell_type": "code",
      "execution_count": 30,
      "metadata": {
        "id": "5AkjSH-XWmB4"
      },
      "outputs": [],
      "source": [
        "#Load the best weights\n",
        "model.load_weights('weights.h5')"
      ]
    },
    {
      "cell_type": "code",
      "execution_count": 31,
      "metadata": {
        "id": "2NLQc85wWmB4",
        "colab": {
          "base_uri": "https://localhost:8080/"
        },
        "outputId": "0e67ffa6-6327-4a5a-bba4-7e337520d649"
      },
      "outputs": [
        {
          "output_type": "stream",
          "name": "stdout",
          "text": [
            "218/218 [==============================] - 7s 30ms/step\n",
            "[2 0 5 ... 3 2 2]\n",
            "740/740 [==============================] - 23s 31ms/step\n",
            "[4 3 0 ... 7 4 5]\n",
            "131/131 [==============================] - 4s 29ms/step\n",
            "[3 2 0 ... 7 7 5]\n"
          ]
        }
      ],
      "source": [
        "y_pred_test=model.predict(X_test).argmax(axis=1)  \n",
        "print(y_pred_test)\n",
        "y_pred_train=model.predict(X_train).argmax(axis=1)\n",
        "print(y_pred_train)\n",
        "y_pred_val=model.predict(X_val).argmax(axis=1)\n",
        "print(y_pred_val)"
      ]
    },
    {
      "cell_type": "code",
      "execution_count": 32,
      "metadata": {
        "id": "xinOarVoWmB4",
        "colab": {
          "base_uri": "https://localhost:8080/"
        },
        "outputId": "54a51427-fd6d-45ea-cdc0-c0b5d1c1abaf"
      },
      "outputs": [
        {
          "output_type": "stream",
          "name": "stdout",
          "text": [
            "Training accuracy:  0.8331642573336715\n",
            "Testing accuracy:  0.5872970254346889\n",
            "Validation accuracy:  0.577245508982036\n"
          ]
        }
      ],
      "source": [
        "#Accuracy score\n",
        "print(\"Training accuracy: \",accuracy_score(y_train,y_pred_train))\n",
        "print(\"Testing accuracy: \",accuracy_score(y_test,y_pred_test))\n",
        "print(\"Validation accuracy: \",accuracy_score(y_val,y_pred_val))"
      ]
    },
    {
      "cell_type": "code",
      "execution_count": 33,
      "metadata": {
        "id": "5-DBlVK6WmB4",
        "colab": {
          "base_uri": "https://localhost:8080/"
        },
        "outputId": "878a48d8-5d1c-4a37-fbee-05a06d8ad5ae"
      },
      "outputs": [
        {
          "output_type": "stream",
          "name": "stdout",
          "text": [
            "              precision    recall  f1-score   support\n",
            "\n",
            "           0    0.46605   0.54187   0.50111       836\n",
            "           1    0.00000   0.00000   0.00000       202\n",
            "           2    0.67371   0.66395   0.66880      1104\n",
            "           3    0.64066   0.68609   0.66260      2214\n",
            "           4    0.74624   0.72141   0.73362       481\n",
            "           5    0.51105   0.55765   0.53333      1327\n",
            "           6    0.00000   0.00000   0.00000        23\n",
            "           7    0.47967   0.38212   0.42538       772\n",
            "\n",
            "    accuracy                        0.58730      6959\n",
            "   macro avg    0.43967   0.44414   0.44060      6959\n",
            "weighted avg    0.56894   0.58730   0.57670      6959\n",
            "\n"
          ]
        },
        {
          "output_type": "stream",
          "name": "stderr",
          "text": [
            "/usr/local/lib/python3.7/dist-packages/sklearn/metrics/_classification.py:1318: UndefinedMetricWarning: Precision and F-score are ill-defined and being set to 0.0 in labels with no predicted samples. Use `zero_division` parameter to control this behavior.\n",
            "  _warn_prf(average, modifier, msg_start, len(result))\n",
            "/usr/local/lib/python3.7/dist-packages/sklearn/metrics/_classification.py:1318: UndefinedMetricWarning: Precision and F-score are ill-defined and being set to 0.0 in labels with no predicted samples. Use `zero_division` parameter to control this behavior.\n",
            "  _warn_prf(average, modifier, msg_start, len(result))\n",
            "/usr/local/lib/python3.7/dist-packages/sklearn/metrics/_classification.py:1318: UndefinedMetricWarning: Precision and F-score are ill-defined and being set to 0.0 in labels with no predicted samples. Use `zero_division` parameter to control this behavior.\n",
            "  _warn_prf(average, modifier, msg_start, len(result))\n"
          ]
        }
      ],
      "source": [
        "#Classification report\n",
        "print(classification_report(y_test, y_pred_test, digits=5))"
      ]
    },
    {
      "cell_type": "code",
      "execution_count": 34,
      "metadata": {
        "id": "E80rYZWcWmB4",
        "colab": {
          "base_uri": "https://localhost:8080/",
          "height": 300
        },
        "outputId": "3640a1bc-9ed2-489b-a991-ab33de86f917"
      },
      "outputs": [
        {
          "output_type": "stream",
          "name": "stdout",
          "text": [
            "Confusion Matrix\n",
            "AxesSubplot(0.125,0.125;0.62x0.755)\n"
          ]
        },
        {
          "output_type": "display_data",
          "data": {
            "text/plain": [
              "<Figure size 432x288 with 2 Axes>"
            ],
            "image/png": "[encoded data removed]"
          },
          "metadata": {
            "needs_background": "light"
          }
        }
      ],
      "source": [
        "#Confusion Matrix\n",
        "print('Confusion Matrix')\n",
        "print(sns.heatmap(confusion_matrix(y_test, y_pred_test),annot=True,fmt=\"d\"))"
      ]
    },
    {
      "cell_type": "code",
      "execution_count": 35,
      "metadata": {
        "id": "FfFwPXpSWmB5",
        "colab": {
          "base_uri": "https://localhost:8080/"
        },
        "outputId": "20b46b6c-2fab-4f14-8303-b60700ff2abb"
      },
      "outputs": [
        {
          "output_type": "stream",
          "name": "stdout",
          "text": [
            "{'anger': 0, 'disgust': 1, 'fear': 2, 'joy': 3, 'neutral': 4, 'sadness': 5, 'shame': 6, 'surprise': 7}\n"
          ]
        }
      ],
      "source": [
        "#Mapping of target classes using label-encoder\n",
        "le_name_mapping = dict(zip(label_encoder.classes_, label_encoder.transform(label_encoder.classes_)))\n",
        "print(le_name_mapping)"
      ]
    },
    {
      "cell_type": "code",
      "execution_count": 36,
      "metadata": {
        "id": "agl_PRwLWmB5"
      },
      "outputs": [],
      "source": [
        "#Example\n",
        "def predict_emotion(stri):\n",
        "    review = re.sub('[^a-zA-Z]', ' ', stri)\n",
        "    review = review.lower()\n",
        "    review = review.split()\n",
        "    review = [ps.stem(word) for word in review if not word in stopwords.words('english')]\n",
        "    review = ' '.join(review)\n",
        "    onehot_repr = [one_hot(review,voc_size)] \n",
        "    embed = pad_sequences(onehot_repr,padding='pre',maxlen=sent_length)\n",
        "    predicti = model.predict(embed)\n",
        "    return label_encoder.classes_[np.argmax(predicti)]"
      ]
    },
    {
      "cell_type": "code",
      "execution_count": 37,
      "metadata": {
        "id": "W-PQwgm6WmB5",
        "colab": {
          "base_uri": "https://localhost:8080/",
          "height": 53
        },
        "outputId": "1b7094cf-0797-41d3-b9ea-bbce29728997"
      },
      "outputs": [
        {
          "output_type": "stream",
          "name": "stdout",
          "text": [
            "1/1 [==============================] - 0s 36ms/step\n"
          ]
        },
        {
          "output_type": "execute_result",
          "data": {
            "text/plain": [
              "'joy'"
            ],
            "application/vnd.google.colaboratory.intrinsic+json": {
              "type": "string"
            }
          },
          "metadata": {},
          "execution_count": 37
        }
      ],
      "source": [
        "predict_emotion('I am very happy and joyful today')"
      ]
    },
    {
      "cell_type": "code",
      "execution_count": 38,
      "metadata": {
        "id": "E-j1P3uJlaxb",
        "colab": {
          "base_uri": "https://localhost:8080/",
          "height": 53
        },
        "outputId": "5cf59a6a-028d-4ba4-a073-5ffb9c0f8ab6"
      },
      "outputs": [
        {
          "output_type": "stream",
          "name": "stdout",
          "text": [
            "1/1 [==============================] - 0s 26ms/step\n"
          ]
        },
        {
          "output_type": "execute_result",
          "data": {
            "text/plain": [
              "'joy'"
            ],
            "application/vnd.google.colaboratory.intrinsic+json": {
              "type": "string"
            }
          },
          "metadata": {},
          "execution_count": 38
        }
      ],
      "source": [
        "predict_emotion('today is beautiful')"
      ]
    },
    {
      "cell_type": "code",
      "source": [
        "predict_emotion('once in a while')"
      ],
      "metadata": {
        "colab": {
          "base_uri": "https://localhost:8080/",
          "height": 53
        },
        "id": "ofgKYIxD6Ucy",
        "outputId": "351b2f60-33fb-4643-beda-fd7c22d66758"
      },
      "execution_count": 39,
      "outputs": [
        {
          "output_type": "stream",
          "name": "stdout",
          "text": [
            "1/1 [==============================] - 0s 25ms/step\n"
          ]
        },
        {
          "output_type": "execute_result",
          "data": {
            "text/plain": [
              "'neutral'"
            ],
            "application/vnd.google.colaboratory.intrinsic+json": {
              "type": "string"
            }
          },
          "metadata": {},
          "execution_count": 39
        }
      ]
    },
    {
      "cell_type": "code",
      "source": [
        "predict_emotion('i almost foget hair loored looked mirror')"
      ],
      "metadata": {
        "colab": {
          "base_uri": "https://localhost:8080/",
          "height": 53
        },
        "id": "rTzvyf47O0m3",
        "outputId": "38daafc9-575a-4329-8083-64ff77592d29"
      },
      "execution_count": 40,
      "outputs": [
        {
          "output_type": "stream",
          "name": "stdout",
          "text": [
            "1/1 [==============================] - 0s 35ms/step\n"
          ]
        },
        {
          "output_type": "execute_result",
          "data": {
            "text/plain": [
              "'fear'"
            ],
            "application/vnd.google.colaboratory.intrinsic+json": {
              "type": "string"
            }
          },
          "metadata": {},
          "execution_count": 40
        }
      ]
    },
    {
      "cell_type": "code",
      "source": [
        "predict_emotion('ON THE WAY TO MY HOMEGIRL BABY FUNERAL!!! MAN I HATE FUNERALS THIS REALLY SHOWS ME HOW BLESSED I AM  ')"
      ],
      "metadata": {
        "colab": {
          "base_uri": "https://localhost:8080/",
          "height": 53
        },
        "id": "AUV7lzpQBiMZ",
        "outputId": "7fa9ccd4-5f54-47f3-f5f1-f3777471e5d7"
      },
      "execution_count": 41,
      "outputs": [
        {
          "output_type": "stream",
          "name": "stdout",
          "text": [
            "1/1 [==============================] - 0s 25ms/step\n"
          ]
        },
        {
          "output_type": "execute_result",
          "data": {
            "text/plain": [
              "'sadness'"
            ],
            "application/vnd.google.colaboratory.intrinsic+json": {
              "type": "string"
            }
          },
          "metadata": {},
          "execution_count": 41
        }
      ]
    },
    {
      "cell_type": "code",
      "source": [
        "predict_emotion('iam scary')"
      ],
      "metadata": {
        "colab": {
          "base_uri": "https://localhost:8080/",
          "height": 53
        },
        "id": "B8ya2yiwfZWD",
        "outputId": "efede2e4-4d13-4fb4-99f2-e529c89787e3"
      },
      "execution_count": 42,
      "outputs": [
        {
          "output_type": "stream",
          "name": "stdout",
          "text": [
            "1/1 [==============================] - 0s 25ms/step\n"
          ]
        },
        {
          "output_type": "execute_result",
          "data": {
            "text/plain": [
              "'fear'"
            ],
            "application/vnd.google.colaboratory.intrinsic+json": {
              "type": "string"
            }
          },
          "metadata": {},
          "execution_count": 42
        }
      ]
    },
    {
      "cell_type": "code",
      "source": [
        "predict_emotion('I was riding with a friend in his car. At a speed of 120 km/h on the snow-covered motorway I would have liked to get out.')#fear"
      ],
      "metadata": {
        "colab": {
          "base_uri": "https://localhost:8080/",
          "height": 53
        },
        "id": "7vypRSi_fofW",
        "outputId": "3098a484-f596-4fa1-bbe6-b404fa2e30f6"
      },
      "execution_count": 43,
      "outputs": [
        {
          "output_type": "stream",
          "name": "stdout",
          "text": [
            "1/1 [==============================] - 0s 109ms/step\n"
          ]
        },
        {
          "output_type": "execute_result",
          "data": {
            "text/plain": [
              "'fear'"
            ],
            "application/vnd.google.colaboratory.intrinsic+json": {
              "type": "string"
            }
          },
          "metadata": {},
          "execution_count": 43
        }
      ]
    },
    {
      "cell_type": "code",
      "source": [
        "predict_emotion('Few years ago my father was very ill. He stayed at a hospital for a long time. Then I experienced that terrible feeling that I might lose him.')"
      ],
      "metadata": {
        "colab": {
          "base_uri": "https://localhost:8080/",
          "height": 53
        },
        "id": "ppLxPzu5gn4Y",
        "outputId": "aed6df5c-afa3-4ff8-97d9-866ef7de6ac9"
      },
      "execution_count": 44,
      "outputs": [
        {
          "output_type": "stream",
          "name": "stdout",
          "text": [
            "1/1 [==============================] - 0s 42ms/step\n"
          ]
        },
        {
          "output_type": "execute_result",
          "data": {
            "text/plain": [
              "'sadness'"
            ],
            "application/vnd.google.colaboratory.intrinsic+json": {
              "type": "string"
            }
          },
          "metadata": {},
          "execution_count": 44
        }
      ]
    },
    {
      "cell_type": "code",
      "source": [
        "predict_emotion('I failed to play cricket.')\n"
      ],
      "metadata": {
        "colab": {
          "base_uri": "https://localhost:8080/",
          "height": 53
        },
        "id": "uzXbHo19gvgQ",
        "outputId": "f40a0c41-b72f-4fdc-82b4-a54720a5bb0e"
      },
      "execution_count": 52,
      "outputs": [
        {
          "output_type": "stream",
          "name": "stdout",
          "text": [
            "1/1 [==============================] - 0s 26ms/step\n"
          ]
        },
        {
          "output_type": "execute_result",
          "data": {
            "text/plain": [
              "'sadness'"
            ],
            "application/vnd.google.colaboratory.intrinsic+json": {
              "type": "string"
            }
          },
          "metadata": {},
          "execution_count": 52
        }
      ]
    },
    {
      "cell_type": "code",
      "source": [
        "predict_emotion(' No , I just check my weight , Iam getting fatter')\n",
        "#anger"
      ],
      "metadata": {
        "colab": {
          "base_uri": "https://localhost:8080/",
          "height": 53
        },
        "id": "5NZznW0pg0-C",
        "outputId": "20f1cac9-c7d0-4d86-c0cb-0bc3822ad1ca"
      },
      "execution_count": 46,
      "outputs": [
        {
          "output_type": "stream",
          "name": "stdout",
          "text": [
            "1/1 [==============================] - 0s 25ms/step\n"
          ]
        },
        {
          "output_type": "execute_result",
          "data": {
            "text/plain": [
              "'anger'"
            ],
            "application/vnd.google.colaboratory.intrinsic+json": {
              "type": "string"
            }
          },
          "metadata": {},
          "execution_count": 46
        }
      ]
    },
    {
      "cell_type": "code",
      "source": [
        "predict_emotion('friend was spreading negative rumours about me.')\n",
        "#sadness"
      ],
      "metadata": {
        "colab": {
          "base_uri": "https://localhost:8080/",
          "height": 53
        },
        "id": "i2UbAM4Pg0wq",
        "outputId": "b358a3bd-c807-4389-b03f-3f26c7698f57"
      },
      "execution_count": 47,
      "outputs": [
        {
          "output_type": "stream",
          "name": "stdout",
          "text": [
            "1/1 [==============================] - 0s 24ms/step\n"
          ]
        },
        {
          "output_type": "execute_result",
          "data": {
            "text/plain": [
              "'sadness'"
            ],
            "application/vnd.google.colaboratory.intrinsic+json": {
              "type": "string"
            }
          },
          "metadata": {},
          "execution_count": 47
        }
      ]
    },
    {
      "cell_type": "code",
      "source": [
        "predict_emotion('Before giving a seminar to a rather large audience.')\n",
        "#fear"
      ],
      "metadata": {
        "colab": {
          "base_uri": "https://localhost:8080/",
          "height": 53
        },
        "id": "vlljhp3Eg0kZ",
        "outputId": "715b2419-7f13-4269-8925-b48c91630726"
      },
      "execution_count": 48,
      "outputs": [
        {
          "output_type": "stream",
          "name": "stdout",
          "text": [
            "1/1 [==============================] - 0s 30ms/step\n"
          ]
        },
        {
          "output_type": "execute_result",
          "data": {
            "text/plain": [
              "'fear'"
            ],
            "application/vnd.google.colaboratory.intrinsic+json": {
              "type": "string"
            }
          },
          "metadata": {},
          "execution_count": 48
        }
      ]
    },
    {
      "cell_type": "code",
      "source": [
        "predict_emotion('friends dont recognize me')"
      ],
      "metadata": {
        "colab": {
          "base_uri": "https://localhost:8080/",
          "height": 53
        },
        "id": "NWa2xVIft8GX",
        "outputId": "48e91166-ecdb-41a0-d94e-46ad6c7b615e"
      },
      "execution_count": 56,
      "outputs": [
        {
          "output_type": "stream",
          "name": "stdout",
          "text": [
            "1/1 [==============================] - 0s 26ms/step\n"
          ]
        },
        {
          "output_type": "execute_result",
          "data": {
            "text/plain": [
              "'sadness'"
            ],
            "application/vnd.google.colaboratory.intrinsic+json": {
              "type": "string"
            }
          },
          "metadata": {},
          "execution_count": 56
        }
      ]
    },
    {
      "cell_type": "code",
      "source": [
        "predict_emotion('iam very happy to give presentation')"
      ],
      "metadata": {
        "colab": {
          "base_uri": "https://localhost:8080/",
          "height": 53
        },
        "id": "STfZOopJudwU",
        "outputId": "8f529b0b-94a7-45ab-bf5e-c45f772ecdf0"
      },
      "execution_count": 57,
      "outputs": [
        {
          "output_type": "stream",
          "name": "stdout",
          "text": [
            "1/1 [==============================] - 0s 28ms/step\n"
          ]
        },
        {
          "output_type": "execute_result",
          "data": {
            "text/plain": [
              "'joy'"
            ],
            "application/vnd.google.colaboratory.intrinsic+json": {
              "type": "string"
            }
          },
          "metadata": {},
          "execution_count": 57
        }
      ]
    }
  ],
  "metadata": {
    "colab": {
      "collapsed_sections": [],
      "provenance": [],
      "include_colab_link": true
    },
    "kernelspec": {
      "display_name": "Python 3.9.6 64-bit",
      "language": "python",
      "name": "python3"
    },
    "language_info": {
      "codemirror_mode": {
        "name": "ipython",
        "version": 3
      },
      "file_extension": ".py",
      "mimetype": "text/x-python",
      "name": "python",
      "nbconvert_exporter": "python",
      "pygments_lexer": "ipython3",
      "version": "3.9.6"
    },
    "vscode": {
      "interpreter": {
        "hash": "65bab2dc8ad2a90119d332fecbb9761697c5100aab040e4d5b0de231f09892d2"
      }
    }
  },
  "nbformat": 4,
  "nbformat_minor": 0
}